{
 "cells": [
  {
   "cell_type": "markdown",
   "metadata": {},
   "source": [
    "# Supervised"
   ]
  },
  {
   "cell_type": "markdown",
   "metadata": {},
   "source": [
    "In this notebook I run 3 different models: Neural Network, KNN, and Random Forest. For every model, I first run the inital model, then conduct hyperparameter tuning, and then evalueate the final model. In the end, I will select the best performing model and use the SHAP method for explainability."
   ]
  },
  {
   "cell_type": "code",
   "execution_count": 30,
   "metadata": {},
   "outputs": [],
   "source": [
    "#Basic packages\n",
    "import pandas as pd\n",
    "from sklearn.preprocessing import LabelEncoder, StandardScaler\n",
    "from sklearn.model_selection import train_test_split\n",
    "import seaborn as sns\n",
    "import numpy as np\n",
    "import matplotlib.pyplot as plt\n",
    "from sklearn.metrics import mean_squared_error, mean_absolute_error, r2_score\n",
    "\n",
    "#Neural network packages\n",
    "import tensorflow as tf\n",
    "from keras.models import Sequential \n",
    "from keras.layers import Dense\n",
    "\n",
    "#Random Forest packages\n",
    "from sklearn.ensemble import RandomForestClassifier\n",
    "from sklearn.ensemble import RandomForestRegressor\n",
    "from sklearn.model_selection import GridSearchCV\n",
    "\n",
    "#KNN packages\n",
    "from sklearn.neighbors import KNeighborsRegressor\n",
    "from sklearn.neighbors import KNeighborsClassifier\n",
    "\n",
    "#For Explainability\n",
    "import shap"
   ]
  },
  {
   "cell_type": "code",
   "execution_count": 31,
   "metadata": {},
   "outputs": [
    {
     "data": {
      "text/html": [
       "<div>\n",
       "<style scoped>\n",
       "    .dataframe tbody tr th:only-of-type {\n",
       "        vertical-align: middle;\n",
       "    }\n",
       "\n",
       "    .dataframe tbody tr th {\n",
       "        vertical-align: top;\n",
       "    }\n",
       "\n",
       "    .dataframe thead th {\n",
       "        text-align: right;\n",
       "    }\n",
       "</style>\n",
       "<table border=\"1\" class=\"dataframe\">\n",
       "  <thead>\n",
       "    <tr style=\"text-align: right;\">\n",
       "      <th></th>\n",
       "      <th>runtime</th>\n",
       "      <th>genre</th>\n",
       "      <th>worldwide_box_office</th>\n",
       "      <th>theatre_count</th>\n",
       "      <th>avg_run_per_theatre</th>\n",
       "      <th>creative_type</th>\n",
       "      <th>seasons</th>\n",
       "    </tr>\n",
       "  </thead>\n",
       "  <tbody>\n",
       "    <tr>\n",
       "      <th>0</th>\n",
       "      <td>104.0</td>\n",
       "      <td>1</td>\n",
       "      <td>108286422.0</td>\n",
       "      <td>3391.0</td>\n",
       "      <td>4.9</td>\n",
       "      <td>1</td>\n",
       "      <td>2</td>\n",
       "    </tr>\n",
       "    <tr>\n",
       "      <th>1</th>\n",
       "      <td>100.0</td>\n",
       "      <td>2</td>\n",
       "      <td>987640.0</td>\n",
       "      <td>3.0</td>\n",
       "      <td>2.1</td>\n",
       "      <td>1</td>\n",
       "      <td>4</td>\n",
       "    </tr>\n",
       "    <tr>\n",
       "      <th>2</th>\n",
       "      <td>93.0</td>\n",
       "      <td>2</td>\n",
       "      <td>307.0</td>\n",
       "      <td>819.5</td>\n",
       "      <td>4.2</td>\n",
       "      <td>1</td>\n",
       "      <td>1</td>\n",
       "    </tr>\n",
       "    <tr>\n",
       "      <th>3</th>\n",
       "      <td>93.0</td>\n",
       "      <td>2</td>\n",
       "      <td>47019.0</td>\n",
       "      <td>819.5</td>\n",
       "      <td>4.2</td>\n",
       "      <td>1</td>\n",
       "      <td>2</td>\n",
       "    </tr>\n",
       "    <tr>\n",
       "      <th>4</th>\n",
       "      <td>107.0</td>\n",
       "      <td>2</td>\n",
       "      <td>143782.0</td>\n",
       "      <td>6.0</td>\n",
       "      <td>3.8</td>\n",
       "      <td>2</td>\n",
       "      <td>3</td>\n",
       "    </tr>\n",
       "  </tbody>\n",
       "</table>\n",
       "</div>"
      ],
      "text/plain": [
       "   runtime  genre  worldwide_box_office  theatre_count  avg_run_per_theatre  \\\n",
       "0    104.0      1           108286422.0         3391.0                  4.9   \n",
       "1    100.0      2              987640.0            3.0                  2.1   \n",
       "2     93.0      2                 307.0          819.5                  4.2   \n",
       "3     93.0      2               47019.0          819.5                  4.2   \n",
       "4    107.0      2              143782.0            6.0                  3.8   \n",
       "\n",
       "   creative_type  seasons  \n",
       "0              1        2  \n",
       "1              1        4  \n",
       "2              1        1  \n",
       "3              1        2  \n",
       "4              2        3  "
      ]
     },
     "execution_count": 31,
     "metadata": {},
     "output_type": "execute_result"
    }
   ],
   "source": [
    "#Importing data after eda\n",
    "eda_df = pd.read_csv(r\"C:\\Users\\ottok\\OneDrive\\Documents\\AI_resit_EDA.xlsx\")\n",
    "eda_df.head()"
   ]
  },
  {
   "cell_type": "markdown",
   "metadata": {},
   "source": [
    "## Neural Network"
   ]
  },
  {
   "cell_type": "markdown",
   "metadata": {},
   "source": [
    "Defining input and output features"
   ]
  },
  {
   "cell_type": "code",
   "execution_count": 32,
   "metadata": {},
   "outputs": [
    {
     "name": "stdout",
     "output_type": "stream",
     "text": [
      "X shape: (5406, 6)\n",
      "Y shape: (5406, 1)\n"
     ]
    }
   ],
   "source": [
    "# Defining X and y\n",
    "X = eda_df[['runtime', 'genre', 'theatre_count', 'seasons','avg_run_per_theatre', 'creative_type']]\n",
    "Y = eda_df[['worldwide_box_office']]\n",
    "\n",
    "# Printing the shapes\n",
    "print(\"X shape:\", X.shape)\n",
    "print(\"Y shape:\", Y.shape)\n"
   ]
  },
  {
   "cell_type": "markdown",
   "metadata": {},
   "source": [
    "Splitting the data into test, train and validation"
   ]
  },
  {
   "cell_type": "code",
   "execution_count": 33,
   "metadata": {},
   "outputs": [],
   "source": [
    "# Splitting the data into training (main), test\n",
    "X_main, X_test, Y_main, Y_test = train_test_split(X, Y, test_size=0.2, random_state=42)\n",
    "\n",
    "# Splitting training (main) into train and validation\n",
    "X_train, X_val, Y_train, Y_val = train_test_split(X_main, Y_main, test_size=0.2, random_state=42)"
   ]
  },
  {
   "cell_type": "markdown",
   "metadata": {},
   "source": [
    "Scaling the input features. We don't scale output feature because of easier interpretability and the fact that it usually doesn't improve the model's ability to learn from the features."
   ]
  },
  {
   "cell_type": "code",
   "execution_count": 34,
   "metadata": {},
   "outputs": [],
   "source": [
    "#Loading the scaler\n",
    "scaler = StandardScaler()\n",
    "\n",
    "#Fitting the scaler on training, and transform train\n",
    "X_train = scaler.fit_transform(X_train)\n",
    "\n",
    "#Transforming Test and Validation based on same scaler\n",
    "X_test = scaler.transform(X_test)\n",
    "X_val = scaler.transform(X_val)\n",
    "\n",
    "#Saving for explainability in the end\n",
    "X_test_NN = X_test"
   ]
  },
  {
   "cell_type": "markdown",
   "metadata": {},
   "source": [
    "Initial model"
   ]
  },
  {
   "cell_type": "code",
   "execution_count": 35,
   "metadata": {},
   "outputs": [
    {
     "name": "stdout",
     "output_type": "stream",
     "text": [
      "Epoch 1/50\n",
      "4/4 [==============================] - 3s 115ms/step - loss: 4723941113331712.0000 - accuracy: 0.0000e+00 - val_loss: 3927469761495040.0000 - val_accuracy: 0.0000e+00\n",
      "Epoch 2/50\n",
      "4/4 [==============================] - 0s 16ms/step - loss: 4723908364206080.0000 - accuracy: 0.0000e+00 - val_loss: 3927384130584576.0000 - val_accuracy: 0.0000e+00\n",
      "Epoch 3/50\n",
      "4/4 [==============================] - 0s 16ms/step - loss: 4723757503479808.0000 - accuracy: 0.0000e+00 - val_loss: 3927113279209472.0000 - val_accuracy: 0.0000e+00\n",
      "Epoch 4/50\n",
      "4/4 [==============================] - 0s 10ms/step - loss: 4723338744168448.0000 - accuracy: 0.0000e+00 - val_loss: 3926491314257920.0000 - val_accuracy: 0.0000e+00\n",
      "Epoch 5/50\n",
      "4/4 [==============================] - 0s 11ms/step - loss: 4722457202130944.0000 - accuracy: 0.0000e+00 - val_loss: 3925280938786816.0000 - val_accuracy: 0.0000e+00\n",
      "Epoch 6/50\n",
      "4/4 [==============================] - 0s 10ms/step - loss: 4720791828561920.0000 - accuracy: 0.0000e+00 - val_loss: 3923176404811776.0000 - val_accuracy: 0.0000e+00\n",
      "Epoch 7/50\n",
      "4/4 [==============================] - 0s 17ms/step - loss: 4718141833740288.0000 - accuracy: 0.0000e+00 - val_loss: 3919763784859648.0000 - val_accuracy: 0.0000e+00\n",
      "Epoch 8/50\n",
      "4/4 [==============================] - 0s 14ms/step - loss: 4713803916771328.0000 - accuracy: 0.0000e+00 - val_loss: 3914541373063168.0000 - val_accuracy: 0.0000e+00\n",
      "Epoch 9/50\n",
      "4/4 [==============================] - 0s 16ms/step - loss: 4707199867682816.0000 - accuracy: 0.0000e+00 - val_loss: 3906947602448384.0000 - val_accuracy: 0.0000e+00\n",
      "Epoch 10/50\n",
      "4/4 [==============================] - 0s 11ms/step - loss: 4697793352433664.0000 - accuracy: 0.0000e+00 - val_loss: 3896318632132608.0000 - val_accuracy: 0.0000e+00\n",
      "Epoch 11/50\n",
      "4/4 [==============================] - 0s 10ms/step - loss: 4684553578872832.0000 - accuracy: 0.0000e+00 - val_loss: 3881966462042112.0000 - val_accuracy: 0.0000e+00\n",
      "Epoch 12/50\n",
      "4/4 [==============================] - 0s 16ms/step - loss: 4667525644156928.0000 - accuracy: 0.0000e+00 - val_loss: 3863099476017152.0000 - val_accuracy: 0.0000e+00\n",
      "Epoch 13/50\n",
      "4/4 [==============================] - 0s 10ms/step - loss: 4644276449312768.0000 - accuracy: 0.0000e+00 - val_loss: 3838973570973696.0000 - val_accuracy: 0.0000e+00\n",
      "Epoch 14/50\n",
      "4/4 [==============================] - 0s 16ms/step - loss: 4615717601148928.0000 - accuracy: 0.0000e+00 - val_loss: 3808542922375168.0000 - val_accuracy: 0.0000e+00\n",
      "Epoch 15/50\n",
      "4/4 [==============================] - 0s 11ms/step - loss: 4580261572378624.0000 - accuracy: 0.0000e+00 - val_loss: 3771041146994688.0000 - val_accuracy: 0.0000e+00\n",
      "Epoch 16/50\n",
      "4/4 [==============================] - 0s 11ms/step - loss: 4534196974387200.0000 - accuracy: 0.0000e+00 - val_loss: 3726018347008000.0000 - val_accuracy: 0.0000e+00\n",
      "Epoch 17/50\n",
      "4/4 [==============================] - 0s 16ms/step - loss: 4481908163477504.0000 - accuracy: 0.0000e+00 - val_loss: 3672220660400128.0000 - val_accuracy: 0.0000e+00\n",
      "Epoch 18/50\n",
      "4/4 [==============================] - 0s 10ms/step - loss: 4418860727926784.0000 - accuracy: 0.0000e+00 - val_loss: 3609328917413888.0000 - val_accuracy: 0.0000e+00\n",
      "Epoch 19/50\n",
      "4/4 [==============================] - 0s 11ms/step - loss: 4345010644320256.0000 - accuracy: 0.0000e+00 - val_loss: 3536883288113152.0000 - val_accuracy: 0.0000e+00\n",
      "Epoch 20/50\n",
      "4/4 [==============================] - 0s 10ms/step - loss: 4260580177215488.0000 - accuracy: 0.0000e+00 - val_loss: 3454390119694336.0000 - val_accuracy: 0.0000e+00\n",
      "Epoch 21/50\n",
      "4/4 [==============================] - 0s 10ms/step - loss: 4168542249287680.0000 - accuracy: 0.0000e+00 - val_loss: 3361841627529216.0000 - val_accuracy: 0.0000e+00\n",
      "Epoch 22/50\n",
      "4/4 [==============================] - 0s 11ms/step - loss: 4061541997477888.0000 - accuracy: 0.0000e+00 - val_loss: 3260687094644736.0000 - val_accuracy: 0.0000e+00\n",
      "Epoch 23/50\n",
      "4/4 [==============================] - 0s 16ms/step - loss: 3942120431812608.0000 - accuracy: 0.0000e+00 - val_loss: 3151127042326528.0000 - val_accuracy: 0.0000e+00\n",
      "Epoch 24/50\n",
      "4/4 [==============================] - 0s 11ms/step - loss: 3814192683417600.0000 - accuracy: 0.0000e+00 - val_loss: 3033394740985856.0000 - val_accuracy: 0.0000e+00\n",
      "Epoch 25/50\n",
      "4/4 [==============================] - 0s 10ms/step - loss: 3679661154369536.0000 - accuracy: 0.0000e+00 - val_loss: 2908336030744576.0000 - val_accuracy: 0.0000e+00\n",
      "Epoch 26/50\n",
      "4/4 [==============================] - 0s 10ms/step - loss: 3532447123767296.0000 - accuracy: 0.0000e+00 - val_loss: 2778823707852800.0000 - val_accuracy: 0.0000e+00\n",
      "Epoch 27/50\n",
      "4/4 [==============================] - 0s 11ms/step - loss: 3387076171005952.0000 - accuracy: 0.0000e+00 - val_loss: 2646058215669760.0000 - val_accuracy: 0.0000e+00\n",
      "Epoch 28/50\n",
      "4/4 [==============================] - 0s 16ms/step - loss: 3233493240774656.0000 - accuracy: 0.0000e+00 - val_loss: 2514744422432768.0000 - val_accuracy: 0.0000e+00\n",
      "Epoch 29/50\n",
      "4/4 [==============================] - 0s 11ms/step - loss: 3080612806131712.0000 - accuracy: 0.0000e+00 - val_loss: 2386507167956992.0000 - val_accuracy: 0.0000e+00\n",
      "Epoch 30/50\n",
      "4/4 [==============================] - 0s 16ms/step - loss: 2933007128199168.0000 - accuracy: 0.0000e+00 - val_loss: 2262772918255616.0000 - val_accuracy: 0.0000e+00\n",
      "Epoch 31/50\n",
      "4/4 [==============================] - 0s 10ms/step - loss: 2786042742571008.0000 - accuracy: 0.0000e+00 - val_loss: 2146955501240320.0000 - val_accuracy: 0.0000e+00\n",
      "Epoch 32/50\n",
      "4/4 [==============================] - 0s 10ms/step - loss: 2648789814870016.0000 - accuracy: 0.0000e+00 - val_loss: 2039654467502080.0000 - val_accuracy: 0.0000e+00\n",
      "Epoch 33/50\n",
      "4/4 [==============================] - 0s 16ms/step - loss: 2516638771445760.0000 - accuracy: 0.0000e+00 - val_loss: 1942416676356096.0000 - val_accuracy: 0.0000e+00\n",
      "Epoch 34/50\n",
      "4/4 [==============================] - 0s 11ms/step - loss: 2403937487421440.0000 - accuracy: 0.0000e+00 - val_loss: 1853535280955392.0000 - val_accuracy: 0.0000e+00\n",
      "Epoch 35/50\n",
      "4/4 [==============================] - 0s 16ms/step - loss: 2293089481785344.0000 - accuracy: 0.0000e+00 - val_loss: 1775043948314624.0000 - val_accuracy: 0.0000e+00\n",
      "Epoch 36/50\n",
      "4/4 [==============================] - 0s 15ms/step - loss: 2197168769204224.0000 - accuracy: 0.0000e+00 - val_loss: 1705820752445440.0000 - val_accuracy: 0.0000e+00\n",
      "Epoch 37/50\n",
      "4/4 [==============================] - 0s 10ms/step - loss: 2112399804989440.0000 - accuracy: 0.0000e+00 - val_loss: 1645019047919616.0000 - val_accuracy: 0.0000e+00\n",
      "Epoch 38/50\n",
      "4/4 [==============================] - 0s 16ms/step - loss: 2037075876511744.0000 - accuracy: 0.0000e+00 - val_loss: 1591667903692800.0000 - val_accuracy: 0.0000e+00\n",
      "Epoch 39/50\n",
      "4/4 [==============================] - 0s 11ms/step - loss: 1969701798281216.0000 - accuracy: 0.0000e+00 - val_loss: 1544410915405824.0000 - val_accuracy: 0.0000e+00\n",
      "Epoch 40/50\n",
      "4/4 [==============================] - 0s 10ms/step - loss: 1913049837469696.0000 - accuracy: 0.0000e+00 - val_loss: 1501727664635904.0000 - val_accuracy: 0.0000e+00\n",
      "Epoch 41/50\n",
      "4/4 [==============================] - 0s 16ms/step - loss: 1860917121777664.0000 - accuracy: 0.0000e+00 - val_loss: 1463694655488000.0000 - val_accuracy: 0.0000e+00\n",
      "Epoch 42/50\n",
      "4/4 [==============================] - 0s 16ms/step - loss: 1812368153640960.0000 - accuracy: 0.0000e+00 - val_loss: 1428348551036928.0000 - val_accuracy: 0.0000e+00\n",
      "Epoch 43/50\n",
      "4/4 [==============================] - 0s 11ms/step - loss: 1770962924077056.0000 - accuracy: 0.0000e+00 - val_loss: 1395534464024576.0000 - val_accuracy: 0.0000e+00\n",
      "Epoch 44/50\n",
      "4/4 [==============================] - 0s 10ms/step - loss: 1731563981111296.0000 - accuracy: 0.0000e+00 - val_loss: 1364111006892032.0000 - val_accuracy: 0.0000e+00\n",
      "Epoch 45/50\n",
      "4/4 [==============================] - 0s 10ms/step - loss: 1696950705455104.0000 - accuracy: 0.0000e+00 - val_loss: 1335177020178432.0000 - val_accuracy: 0.0000e+00\n",
      "Epoch 46/50\n",
      "4/4 [==============================] - 0s 11ms/step - loss: 1663693163069440.0000 - accuracy: 0.0000e+00 - val_loss: 1307693792886784.0000 - val_accuracy: 0.0000e+00\n",
      "Epoch 47/50\n",
      "4/4 [==============================] - 0s 10ms/step - loss: 1633468941336576.0000 - accuracy: 0.0000e+00 - val_loss: 1282073373442048.0000 - val_accuracy: 0.0000e+00\n",
      "Epoch 48/50\n",
      "4/4 [==============================] - 0s 16ms/step - loss: 1605146987462656.0000 - accuracy: 0.0000e+00 - val_loss: 1259098385416192.0000 - val_accuracy: 0.0000e+00\n",
      "Epoch 49/50\n",
      "4/4 [==============================] - 0s 10ms/step - loss: 1580104643772416.0000 - accuracy: 0.0000e+00 - val_loss: 1238846406656000.0000 - val_accuracy: 0.0000e+00\n",
      "Epoch 50/50\n",
      "4/4 [==============================] - 0s 10ms/step - loss: 1557577003433984.0000 - accuracy: 0.0000e+00 - val_loss: 1219937410482176.0000 - val_accuracy: 0.0000e+00\n"
     ]
    }
   ],
   "source": [
    "#NN model\n",
    "NN_model = Sequential()\n",
    "\n",
    "#First hidden Layer\n",
    "NN_model.add(Dense(4, input_dim=X_train.shape[1], activation='relu'))\n",
    "\n",
    "#Second hidden layer\n",
    "NN_model.add(Dense(2, activation='relu'))\n",
    "\n",
    "#Output layer\n",
    "NN_model.add(Dense(Y_train.shape[1], activation='linear'))\n",
    "\n",
    "#Compiling the model with mean squared error loss and learning rate\n",
    "optimizer = tf.keras.optimizers.Adam(learning_rate=0.75)\n",
    "NN_model.compile(loss='mean_squared_error', optimizer=optimizer, metrics=['accuracy'])\n",
    "\n",
    "#Training the model and saving history\n",
    "history = NN_model.fit(X_train, Y_train, validation_data=(X_val, Y_val), epochs=50, batch_size=1000)"
   ]
  },
  {
   "cell_type": "markdown",
   "metadata": {},
   "source": [
    "Visualizing the loss"
   ]
  },
  {
   "cell_type": "code",
   "execution_count": 36,
   "metadata": {},
   "outputs": [
    {
     "data": {
      "image/png": "[encoded data removed]",
      "text/plain": [
       "<Figure size 640x480 with 1 Axes>"
      ]
     },
     "metadata": {},
     "output_type": "display_data"
    }
   ],
   "source": [
    "#Accessing the training loss values from the history object\n",
    "train_loss = history.history['loss']\n",
    "val_loss = history.history['val_loss']\n",
    "\n",
    "#Plotting the training loss and validation loss over epochs\n",
    "epochs = range(1, len(train_loss) + 1)\n",
    "\n",
    "plt.plot(epochs, train_loss, label='Training Loss')\n",
    "plt.plot(epochs, val_loss, label='Validation Loss')\n",
    "plt.title('Training and Validation Loss')\n",
    "plt.xlabel('Epochs')\n",
    "plt.ylabel('Loss')\n",
    "plt.legend()\n",
    "plt.show()"
   ]
  },
  {
   "cell_type": "markdown",
   "metadata": {},
   "source": [
    "Regression metrics for the intial model"
   ]
  },
  {
   "cell_type": "code",
   "execution_count": 37,
   "metadata": {},
   "outputs": [
    {
     "name": "stdout",
     "output_type": "stream",
     "text": [
      "28/28 [==============================] - 0s 1ms/step\n",
      "Mean Squared Error (MSE) of the neural network model is 1219937407718034.8\n",
      "R-squared score of the neural network model is 0.5642196997192181\n"
     ]
    }
   ],
   "source": [
    "#Taking input data X_val and predicting the output\n",
    "y_pred = NN_model.predict(X_val) \n",
    "\n",
    "#Evaluating the performance of the NN model using regression metrics\n",
    "initial_mse_NN = mean_squared_error(Y_val, y_pred)\n",
    "initial_r2_NN = r2_score(Y_val, y_pred)\n",
    "\n",
    "#Printing the regression metrics of the NN model\n",
    "print(\"Mean Squared Error (MSE) of the neural network model is {}\".format(initial_mse_NN))\n",
    "print(\"R-squared score of the neural network model is {}\".format(initial_r2_NN))\n"
   ]
  },
  {
   "cell_type": "markdown",
   "metadata": {},
   "source": [
    "The initial model describes 56% of the variance in target variable worldwide box office."
   ]
  },
  {
   "cell_type": "markdown",
   "metadata": {},
   "source": [
    "Hyperparameter tuning"
   ]
  },
  {
   "cell_type": "code",
   "execution_count": 38,
   "metadata": {},
   "outputs": [
    {
     "name": "stdout",
     "output_type": "stream",
     "text": [
      "28/28 [==============================] - 0s 2ms/step\n",
      "28/28 [==============================] - 0s 1ms/step\n",
      "28/28 [==============================] - 0s 1ms/step\n",
      "28/28 [==============================] - 0s 1ms/step\n",
      "28/28 [==============================] - 0s 1ms/step\n",
      "28/28 [==============================] - 0s 1ms/step\n",
      "28/28 [==============================] - 0s 3ms/step\n",
      "28/28 [==============================] - 0s 1ms/step\n",
      "28/28 [==============================] - 0s 2ms/step\n",
      "28/28 [==============================] - 0s 1ms/step\n",
      "28/28 [==============================] - 0s 1ms/step\n",
      "28/28 [==============================] - 0s 1ms/step\n",
      "28/28 [==============================] - 0s 1ms/step\n",
      "28/28 [==============================] - 0s 1ms/step\n",
      "28/28 [==============================] - 0s 1ms/step\n",
      "28/28 [==============================] - 0s 1ms/step\n",
      "28/28 [==============================] - 0s 1ms/step\n",
      "28/28 [==============================] - 0s 2ms/step\n",
      "28/28 [==============================] - 0s 1ms/step\n",
      "28/28 [==============================] - 0s 1ms/step\n",
      "28/28 [==============================] - 0s 1ms/step\n",
      "28/28 [==============================] - 0s 1ms/step\n",
      "28/28 [==============================] - 0s 1ms/step\n",
      "28/28 [==============================] - 0s 2ms/step\n",
      "28/28 [==============================] - 0s 1ms/step\n",
      "28/28 [==============================] - 0s 1ms/step\n",
      "28/28 [==============================] - 0s 1ms/step\n",
      "28/28 [==============================] - 0s 1ms/step\n",
      "28/28 [==============================] - 0s 2ms/step\n",
      "28/28 [==============================] - 0s 2ms/step\n",
      "28/28 [==============================] - 0s 2ms/step\n",
      "28/28 [==============================] - 0s 2ms/step\n",
      "28/28 [==============================] - 0s 2ms/step\n",
      "28/28 [==============================] - 0s 2ms/step\n",
      "28/28 [==============================] - 0s 1ms/step\n",
      "28/28 [==============================] - 0s 1ms/step\n",
      "28/28 [==============================] - 0s 1ms/step\n",
      "28/28 [==============================] - 0s 2ms/step\n",
      "28/28 [==============================] - 0s 1ms/step\n",
      "28/28 [==============================] - 0s 2ms/step\n",
      "28/28 [==============================] - 0s 1ms/step\n",
      "28/28 [==============================] - 0s 1ms/step\n",
      "28/28 [==============================] - 0s 2ms/step\n",
      "28/28 [==============================] - 0s 1ms/step\n",
      "28/28 [==============================] - 0s 2ms/step\n",
      "28/28 [==============================] - 0s 2ms/step\n",
      "28/28 [==============================] - 0s 2ms/step\n",
      "28/28 [==============================] - 0s 3ms/step\n",
      "28/28 [==============================] - 0s 2ms/step\n",
      "28/28 [==============================] - 0s 2ms/step\n",
      "28/28 [==============================] - 0s 1ms/step\n",
      "28/28 [==============================] - 0s 2ms/step\n",
      "28/28 [==============================] - 0s 2ms/step\n",
      "28/28 [==============================] - 0s 1ms/step\n",
      "28/28 [==============================] - 0s 1ms/step\n",
      "28/28 [==============================] - 0s 2ms/step\n",
      "28/28 [==============================] - 0s 1ms/step\n",
      "28/28 [==============================] - 1s 1ms/step\n",
      "28/28 [==============================] - 0s 1ms/step\n",
      "28/28 [==============================] - 0s 1ms/step\n",
      "28/28 [==============================] - 0s 1ms/step\n",
      "28/28 [==============================] - 0s 2ms/step\n",
      "28/28 [==============================] - 0s 1ms/step\n",
      "28/28 [==============================] - 0s 1ms/step\n",
      "28/28 [==============================] - 0s 2ms/step\n",
      "28/28 [==============================] - 0s 1ms/step\n",
      "28/28 [==============================] - 0s 2ms/step\n",
      "28/28 [==============================] - 0s 2ms/step\n",
      "28/28 [==============================] - 0s 1ms/step\n",
      "28/28 [==============================] - 0s 2ms/step\n",
      "28/28 [==============================] - 0s 2ms/step\n",
      "28/28 [==============================] - 0s 1ms/step\n",
      "28/28 [==============================] - 0s 1ms/step\n",
      "28/28 [==============================] - 0s 1ms/step\n",
      "28/28 [==============================] - 0s 1ms/step\n",
      "28/28 [==============================] - 0s 1ms/step\n",
      "28/28 [==============================] - 0s 2ms/step\n",
      "28/28 [==============================] - 0s 1ms/step\n",
      "28/28 [==============================] - 0s 1ms/step\n",
      "28/28 [==============================] - 0s 1ms/step\n",
      "28/28 [==============================] - 0s 2ms/step\n",
      "Best Hyper parameters:  {'epochs': 150, 'first_layer_units': 8, 'units_second_layer': 8, 'batch_size': 1000}\n",
      "Best MSE Score:  3927471897967256.0\n",
      "Best R-squared Score:  -0.4029530303870208\n",
      "Improvement over initial NN model (MSE):  -221.94044326534956 %\n",
      "Improvement over initial NN model (R-squared):  -221.94044326534964 %\n"
     ]
    }
   ],
   "source": [
    "#Hyperparameters I want to test\n",
    "hyperparam_grid = {\n",
    "    'epochs': [20, 100, 150], \n",
    "    'first_layer_units': [2, 4, 8],\n",
    "    'second_layer_units': [2, 4, 8],\n",
    "    'batch_size': [1000, 2000, 3000],\n",
    "}\n",
    "\n",
    "#Variables for mse and r-squared\n",
    "best_mse_score = float('inf')\n",
    "best_r2_score = float('-inf')\n",
    "best_params = None\n",
    "\n",
    "#Looping through my hyperparameter combinations\n",
    "for epoch in hyperparam_grid['epochs']:\n",
    "    for first_units in hyperparam_grid['first_layer_units']:\n",
    "        for units in hyperparam_grid['second_layer_units']:    \n",
    "            for batch_size in hyperparam_grid['batch_size']:\n",
    "                #Create and compile the model\n",
    "                NN_model = Sequential()\n",
    "                NN_model.add(Dense(first_units, input_dim=X_train.shape[1], activation='relu'))\n",
    "                #Second hidden layer\n",
    "                NN_model.add(Dense(units, activation='relu'))\n",
    "                #output layer\n",
    "                NN_model.add(Dense(Y_train.shape[1], activation='linear'))\n",
    "                NN_model.compile(loss='mean_squared_error', optimizer='adam', metrics=['accuracy'])\n",
    "\n",
    "                #Train the model\n",
    "                NN_model.fit(X_train, Y_train, epochs=epoch, batch_size=batch_size, verbose=0)\n",
    "\n",
    "                #Make predictions on the validation set\n",
    "                y_pred = NN_model.predict(X_val)\n",
    "\n",
    "                #Calculate MSE\n",
    "                mse = mean_squared_error(Y_val, y_pred)\n",
    "\n",
    "                #Calculate R-squared score\n",
    "                r2 = r2_score(Y_val, y_pred)\n",
    "\n",
    "                #Check if the current combination is the best\n",
    "                if mse < best_mse_score:\n",
    "                    best_mse_score = mse\n",
    "                    best_r2_score = r2\n",
    "                    best_params = {'epochs': epoch, 'first_layer_units': first_units, 'units_second_layer': units, 'batch_size': batch_size}\n",
    "\n",
    "\n",
    "# Calculate improvement percentages\n",
    "mse_improvement = ((initial_mse_NN - best_mse_score) / initial_mse_NN) * 100\n",
    "r2_improvement = ((best_r2_score - initial_r2_NN) / (1- initial_r2_NN)) * 100\n",
    "\n",
    "#Print the best parameters and corresponding scores\n",
    "print(\"Best Hyper parameters: \", best_params)\n",
    "print(\"Best MSE Score: \", best_mse_score)\n",
    "print(\"Best R-squared Score: \", best_r2_score)\n",
    "print(\"Improvement over initial NN model (MSE): \", mse_improvement, \"%\")\n",
    "print(\"Improvement over initial NN model (R-squared): \", r2_improvement, \"%\")\n"
   ]
  },
  {
   "cell_type": "markdown",
   "metadata": {},
   "source": [
    "With hyperparameter tuning we found that r-square actually worsened considerably and was negative.  R-squared can be negative if the model is a poor fit and performs worse than a horizontal line (mean model) fitted to the data.\n",
    "\n",
    "In the context of a neural network model, a negative R-squared can occur if the model is not trained well, if it's too complex (overfitting) or too simple (underfitting), or if it's not suitable for the specific structure of the data. It indicates that the neural network model is making predictions that are further from the actual values than if you had simply predicted the mean of the target variable."
   ]
  },
  {
   "cell_type": "markdown",
   "metadata": {},
   "source": [
    "Final model"
   ]
  },
  {
   "cell_type": "code",
   "execution_count": 39,
   "metadata": {},
   "outputs": [
    {
     "name": "stdout",
     "output_type": "stream",
     "text": [
      "28/28 [==============================] - 0s 1ms/step\n",
      "Mean Squared Error (MSE) of the neural network model is 3927475238801679.0\n",
      "R-squared score of the neural network model is -0.4029542237841728\n"
     ]
    }
   ],
   "source": [
    "# Final model\n",
    "\n",
    "#Create Model with Tuned Hyperparameters\n",
    "NN_model = Sequential()\n",
    "\n",
    "#Layers and Output\n",
    "NN_model.add(Dense(4, input_dim=X_train.shape[1], activation='relu'))\n",
    "NN_model.add(Dense(best_params['units_second_layer'], activation='relu'))\n",
    "NN_model.add(Dense(Y_train.shape[1], activation='linear'))\n",
    "\n",
    "#Compiling the NN model\n",
    "NN_model.compile(loss='mean_squared_error', optimizer='adam', metrics=['accuracy'])\n",
    "\n",
    "#Training the model\n",
    "NN_model.fit(X_train, Y_train, epochs=best_params['epochs'], batch_size=best_params['batch_size'], verbose=0)\n",
    "\n",
    "#Making predictions on the validation set\n",
    "y_pred = NN_model.predict(X_val)\n",
    "\n",
    "#Evaluating the performance of the NN model using regression metrics\n",
    "mse_nn_regression = mean_squared_error(Y_val, y_pred)\n",
    "r2_nn_regression = r2_score(Y_val, y_pred)\n",
    "\n",
    "#Printing the regression metrics of the NN model\n",
    "print(\"Mean Squared Error (MSE) of the neural network model is {}\".format(mse_nn_regression))\n",
    "print(\"R-squared score of the neural network model is {}\".format(r2_nn_regression))\n"
   ]
  },
  {
   "cell_type": "markdown",
   "metadata": {},
   "source": [
    "We conclude that the initial model performs better than the model with hyperparameter tuning."
   ]
  },
  {
   "cell_type": "markdown",
   "metadata": {},
   "source": [
    "## KNN"
   ]
  },
  {
   "cell_type": "markdown",
   "metadata": {},
   "source": [
    "Defining input and output features"
   ]
  },
  {
   "cell_type": "code",
   "execution_count": 40,
   "metadata": {},
   "outputs": [
    {
     "name": "stdout",
     "output_type": "stream",
     "text": [
      "X shape: (5406, 6)\n",
      "Y shape: (5406, 1)\n"
     ]
    }
   ],
   "source": [
    "# Defining X and y\n",
    "X = eda_df[['runtime', 'genre', 'theatre_count', 'seasons','avg_run_per_theatre', 'creative_type']]\n",
    "Y = eda_df[['worldwide_box_office']]\n",
    "\n",
    "# Printing the shapes\n",
    "print(\"X shape:\", X.shape)\n",
    "print(\"Y shape:\", Y.shape)\n"
   ]
  },
  {
   "cell_type": "markdown",
   "metadata": {},
   "source": [
    "Splitting data into test, train and valuation"
   ]
  },
  {
   "cell_type": "code",
   "execution_count": 41,
   "metadata": {},
   "outputs": [],
   "source": [
    "# Splitting the data into training and test\n",
    "X_main, X_test, Y_main, Y_test = train_test_split(X, Y, test_size=0.2, random_state=42)\n",
    "\n",
    "# Splitting training (main) into training and validation\n",
    "X_train, X_val, Y_train, Y_val = train_test_split(X_main, Y_main, test_size=0.2, random_state=42)"
   ]
  },
  {
   "cell_type": "markdown",
   "metadata": {},
   "source": [
    "Scaling the input features. We don't scale output feature because of easier interpretability and the fact that it usually doesn't improve the model's ability to learn from the features."
   ]
  },
  {
   "cell_type": "code",
   "execution_count": 42,
   "metadata": {},
   "outputs": [],
   "source": [
    "#Loading the scaler\n",
    "scaler = StandardScaler()\n",
    "\n",
    "#Fitting the scaler on training, and transforming train\n",
    "X_train = scaler.fit_transform(X_train)\n",
    "\n",
    "#Transforming Test and Validation based on same scaler\n",
    "X_test = scaler.transform(X_test)\n",
    "X_val = scaler.transform(X_val)\n",
    "\n",
    "#Saving for explainability in the end\n",
    "X_test_KNN = X_test"
   ]
  },
  {
   "cell_type": "markdown",
   "metadata": {},
   "source": [
    "Inital KNN model"
   ]
  },
  {
   "cell_type": "code",
   "execution_count": 43,
   "metadata": {},
   "outputs": [],
   "source": [
    "#Assigning  the KNNmodel\n",
    "KNN_model = KNeighborsClassifier(n_neighbors=3)\n",
    "\n",
    "#Fitting the KNN model\n",
    "KNN_model.fit(X_train, Y_train.values.ravel())\n",
    "\n",
    "#Making predictions based on validation\n",
    "y_pred = KNN_model.predict(X_val)"
   ]
  },
  {
   "cell_type": "markdown",
   "metadata": {},
   "source": [
    "Seeing initial regression metrics"
   ]
  },
  {
   "cell_type": "code",
   "execution_count": 44,
   "metadata": {},
   "outputs": [
    {
     "name": "stdout",
     "output_type": "stream",
     "text": [
      "Mean Squared Error (MSE) of the model is 1507232821815798.8\n",
      "R-squared score of the model is 0.46159338378469417\n"
     ]
    }
   ],
   "source": [
    "# Making predictions on the validation data using the trained KNN model\n",
    "y_pred = KNN_model.predict(X_val) \n",
    "\n",
    "# Calculating MSE\n",
    "initial_mse_KNN = mean_squared_error(Y_val, y_pred)\n",
    "\n",
    "# Calculating R-squared score\n",
    "initial_r2_KNN = r2_score(Y_val, y_pred)\n",
    "\n",
    "# Printing the MSE and R-squared score\n",
    "print(\"Mean Squared Error (MSE) of the model is {}\".format(initial_mse_KNN))\n",
    "print(\"R-squared score of the model is {}\".format(initial_r2_KNN))\n"
   ]
  },
  {
   "cell_type": "markdown",
   "metadata": {},
   "source": [
    "The initial KNN model describes 46% of the variance in target variable worldwide box office."
   ]
  },
  {
   "cell_type": "markdown",
   "metadata": {},
   "source": [
    "Hyperparameter tuning"
   ]
  },
  {
   "cell_type": "code",
   "execution_count": 45,
   "metadata": {},
   "outputs": [
    {
     "name": "stdout",
     "output_type": "stream",
     "text": [
      "MSE of iteration 1 with K as 1 = 1914011008190897.8\n",
      "R-squared of iteration 1 with K as 1 = 0.316285994172141\n",
      "MSE of iteration 2 with K as 3 = 1116022898766289.1\n",
      "R-squared of iteration 2 with K as 3 = 0.6013395516296762\n",
      "MSE of iteration 3 with K as 5 = 963044914722469.5\n",
      "R-squared of iteration 3 with K as 5 = 0.6559856272407725\n",
      "MSE of iteration 4 with K as 7 = 963974829616240.6\n",
      "R-squared of iteration 4 with K as 7 = 0.6556534474182018\n",
      "MSE of iteration 5 with K as 9 = 956030208690659.6\n",
      "R-squared of iteration 5 with K as 9 = 0.6584913875212459\n",
      "MSE of iteration 6 with K as 11 = 961889978522642.6\n",
      "R-squared of iteration 6 with K as 11 = 0.6563981881154383\n",
      "\n",
      "Best K hyperparameter: 9\n",
      "MSE for best K hyperparameter: 956030208690659.6\n",
      "R-squared for best K hyperparameter: 0.6584913875212459\n",
      "Improvement over initial KNN (MSE): 36.57050225731499 %\n",
      "Improvement over initial KNN (R-squared): 36.570502257315 %\n"
     ]
    }
   ],
   "source": [
    "# K nearest neighbours from 1 to 11 with uneven numbers only\n",
    "hyperparam_grid = {'n_neighbors': range(1, 13, 2)}\n",
    "\n",
    "# Score variables\n",
    "best_mse = float('inf')\n",
    "best_r2 = float('-inf')\n",
    "best_K = 0\n",
    "iteration = 0\n",
    "\n",
    "# Hyperparameter tuning\n",
    "for K in hyperparam_grid['n_neighbors']:\n",
    "    KNN_model = KNeighborsRegressor(n_neighbors=K)\n",
    "    \n",
    "    # Fit the model\n",
    "    KNN_model.fit(X_train, Y_train)\n",
    "    \n",
    "    # Make predictions based on validation\n",
    "    y_pred = KNN_model.predict(X_val)\n",
    "    \n",
    "    # Calculate MSE\n",
    "    mse = mean_squared_error(Y_val, y_pred)\n",
    "    \n",
    "    # Calculate R-squared\n",
    "    r2 = r2_score(Y_val, y_pred)\n",
    "\n",
    "    # Show MSE and R-squared scores and progress\n",
    "    iteration += 1\n",
    "    print(\"MSE of iteration\", iteration, \"with K as\", K, \"=\", mse)\n",
    "    print(\"R-squared of iteration\", iteration, \"with K as\", K, \"=\", r2)\n",
    "\n",
    "    # Check if better and store hyperparameters\n",
    "    if mse < best_mse:\n",
    "        best_mse = mse\n",
    "        best_r2 = r2\n",
    "        best_K = K\n",
    "\n",
    "# Measure improvement\n",
    "mse_improvement = ((initial_mse_KNN - best_mse) / initial_mse_KNN) * 100\n",
    "r2_improvement = ((best_r2 - initial_r2_KNN) / (1 - initial_r2_KNN)) * 100\n",
    "\n",
    "# Print best hyperparameters and scores\n",
    "print(\"\\nBest K hyperparameter:\", best_K)\n",
    "print(\"MSE for best K hyperparameter:\", best_mse)\n",
    "print(\"R-squared for best K hyperparameter:\", best_r2)\n",
    "print(\"Improvement over initial KNN (MSE):\", mse_improvement, \"%\")\n",
    "print(\"Improvement over initial KNN (R-squared):\", r2_improvement, \"%\")\n"
   ]
  },
  {
   "cell_type": "markdown",
   "metadata": {},
   "source": [
    "The hyperparameter tuning shows us that the best k to us is k=9, which yields a 37% improvement compared to the initial KNN model. Now the model describes 66% of the variance."
   ]
  },
  {
   "cell_type": "markdown",
   "metadata": {},
   "source": [
    "Final KNN model"
   ]
  },
  {
   "cell_type": "code",
   "execution_count": 46,
   "metadata": {},
   "outputs": [
    {
     "name": "stdout",
     "output_type": "stream",
     "text": [
      "Mean Squared Error (MSE) of the final KNN model is 956030208690659.6\n",
      "R-squared score of the final KNN model is 0.6584913875212459\n"
     ]
    }
   ],
   "source": [
    "# Assigning the final KNN model with the best K\n",
    "final_KNN_model = KNeighborsRegressor(n_neighbors=best_K)\n",
    "\n",
    "# Fitting the model\n",
    "final_KNN_model.fit(X_train, Y_train)\n",
    "\n",
    "# Making predictions on the validation data\n",
    "y_pred = final_KNN_model.predict(X_val)\n",
    "\n",
    "# Calculating MSE\n",
    "mse = mean_squared_error(Y_val, y_pred)\n",
    "\n",
    "# Calculating R-squared\n",
    "r2 = r2_score(Y_val, y_pred)\n",
    "\n",
    "# Print the MSE and R-squared\n",
    "print(\"Mean Squared Error (MSE) of the final KNN model is {}\".format(mse))\n",
    "print(\"R-squared score of the final KNN model is {}\".format(r2))\n"
   ]
  },
  {
   "cell_type": "markdown",
   "metadata": {},
   "source": [
    "Actual vs predicted values for the KNN model"
   ]
  },
  {
   "cell_type": "code",
   "execution_count": 47,
   "metadata": {},
   "outputs": [
    {
     "data": {
      "image/png": "[encoded data removed]",
      "text/plain": [
       "<Figure size 640x480 with 1 Axes>"
      ]
     },
     "metadata": {},
     "output_type": "display_data"
    }
   ],
   "source": [
    "# Making predictions on the test data using the trained KNN model\n",
    "y_pred = final_KNN_model.predict(X_test)\n",
    "\n",
    "# Plotting the actual vs predicted values\n",
    "plt.scatter(Y_test, y_pred)\n",
    "plt.plot([Y_test.min(), Y_test.max()], [Y_test.min(), Y_test.max()], 'r--')  # Add diagonal line\n",
    "plt.xlabel('Actual Values')\n",
    "plt.ylabel('Predicted Values')\n",
    "plt.title('Actual vs Predicted Values for KNN Model')\n",
    "plt.show()"
   ]
  },
  {
   "cell_type": "markdown",
   "metadata": {},
   "source": [
    "By examining the scatter plot, I can conclude that the model is somewhat able to predict the target variable, because the points on the plot are mostly aligned along the diagonal line (the red dashed line in this case), which indicates that the model's predictions are close to the actual values. This alignment suggests that the model is performing quite well and accurately predicting the target variable."
   ]
  },
  {
   "cell_type": "markdown",
   "metadata": {},
   "source": [
    "## Random Forest"
   ]
  },
  {
   "cell_type": "markdown",
   "metadata": {},
   "source": [
    "Defining input and output features"
   ]
  },
  {
   "cell_type": "code",
   "execution_count": 48,
   "metadata": {},
   "outputs": [
    {
     "name": "stdout",
     "output_type": "stream",
     "text": [
      "X shape: (5406, 6)\n",
      "Y shape: (5406, 1)\n"
     ]
    }
   ],
   "source": [
    "#Defining X and y\n",
    "X = eda_df[['runtime', 'genre', 'theatre_count', 'seasons','avg_run_per_theatre', 'creative_type']]\n",
    "Y = eda_df[['worldwide_box_office']]\n",
    "\n",
    "#Printing the shapes\n",
    "print(\"X shape:\", X.shape)\n",
    "print(\"Y shape:\", Y.shape)"
   ]
  },
  {
   "cell_type": "markdown",
   "metadata": {},
   "source": [
    "Splitting into test, train and validation"
   ]
  },
  {
   "cell_type": "code",
   "execution_count": 49,
   "metadata": {},
   "outputs": [],
   "source": [
    "#Splitting the data into training and test\n",
    "X_main, X_test, Y_main, Y_test = train_test_split(X, Y, test_size=0.2, random_state=42)\n",
    "\n",
    "#Splitting training (main) into train and validation\n",
    "X_train, X_val, Y_train, Y_val = train_test_split(X_main, Y_main, test_size=0.2, random_state=42)"
   ]
  },
  {
   "cell_type": "markdown",
   "metadata": {},
   "source": [
    "Scaling the input features. We don't scale output feature because of easier interpretability and the fact that it usually doesn't improve the model's ability to learn from the features."
   ]
  },
  {
   "cell_type": "code",
   "execution_count": 50,
   "metadata": {},
   "outputs": [],
   "source": [
    "#Loading the scaler\n",
    "scaler = StandardScaler()\n",
    "\n",
    "#Fitting the scaler on training, and transforming train\n",
    "X_train = scaler.fit_transform(X_train)\n",
    "\n",
    "#Transforming Test and Validation based on same scaler\n",
    "X_test = scaler.transform(X_test)\n",
    "X_val = scaler.transform(X_val)\n",
    "\n",
    "#Saving for later explainability\n",
    "X_test_RF = X_test"
   ]
  },
  {
   "cell_type": "markdown",
   "metadata": {},
   "source": [
    "Initial RF model and regression metrics"
   ]
  },
  {
   "cell_type": "code",
   "execution_count": 51,
   "metadata": {},
   "outputs": [
    {
     "name": "stdout",
     "output_type": "stream",
     "text": [
      "Mean Squared Error (MSE) of the Random Forest model is 842617324198144.9\n",
      "R-squared score of the Random Forest model is 0.6990042044470802\n"
     ]
    }
   ],
   "source": [
    "#Creating the Random Forest model\n",
    "rf_model = RandomForestRegressor()\n",
    "\n",
    "#Fitting the model on the training data\n",
    "rf_model.fit(X_train, Y_train.values.ravel())\n",
    "\n",
    "#Making predictions on the validation data\n",
    "y_pred = rf_model.predict(X_val)\n",
    "\n",
    "#Calculating the mean squared error\n",
    "initial_mse_RF = mean_squared_error(Y_val, y_pred)\n",
    "\n",
    "#Calculating the R-squared score\n",
    "initial_r2_RF = r2_score(Y_val, y_pred)\n",
    "\n",
    "#Printing the mean squared error and R-squared score\n",
    "print(\"Mean Squared Error (MSE) of the Random Forest model is {}\".format(initial_mse_RF))\n",
    "print(\"R-squared score of the Random Forest model is {}\".format(initial_r2_RF))\n"
   ]
  },
  {
   "cell_type": "markdown",
   "metadata": {},
   "source": [
    "The inital model desribes 70% of the variance in target variable worldwide box office."
   ]
  },
  {
   "cell_type": "markdown",
   "metadata": {},
   "source": [
    "Hyperparameter tuning"
   ]
  },
  {
   "cell_type": "code",
   "execution_count": 52,
   "metadata": {},
   "outputs": [
    {
     "name": "stdout",
     "output_type": "stream",
     "text": [
      "Best Hyperparameters: {'max_depth': 10, 'min_samples_leaf': 2, 'min_samples_split': 10, 'n_estimators': 100}\n",
      "Mean Squared Error (MSE) of the Random Forest model is 822440267362093.1\n",
      "R-squared score of the Random Forest model is 0.7062117577454452\n",
      "Improvement over initial MSE: 2.3945694274981504%\n",
      "Improvement over initial R-squared: 2.3945694274981246%\n"
     ]
    }
   ],
   "source": [
    " #Defining my hyperparameter grid\n",
    "hyperparam_grid = {\n",
    "    'n_estimators': [10, 50, 100],\n",
    "    'max_depth': [None, 5, 10],\n",
    "    'min_samples_split': [2, 5, 10],\n",
    "    'min_samples_leaf': [1, 2, 4]\n",
    "}\n",
    "\n",
    "#Create the Random Forest model\n",
    "rf_model = RandomForestRegressor()\n",
    "\n",
    "#Perform grid search with cross-validation\n",
    "grid_search = GridSearchCV(estimator=rf_model, param_grid=hyperparam_grid, cv=5, scoring='neg_mean_squared_error')\n",
    "grid_search.fit(X_train, Y_train.values.ravel())\n",
    "\n",
    "#Get the best hyperparameters and score\n",
    "best_params = grid_search.best_params_\n",
    "best_score = -grid_search.best_score_\n",
    "\n",
    "#Train the model with the best hyperparameters\n",
    "rf_model = RandomForestRegressor(**best_params)\n",
    "rf_model.fit(X_train, Y_train.values.ravel())\n",
    "\n",
    "#Make predictions on the validation data\n",
    "y_pred = rf_model.predict(X_val)\n",
    "\n",
    "#Calculate the mean squared error\n",
    "best_mse = mean_squared_error(Y_val, y_pred)\n",
    "\n",
    "#Calculate the R-squared score\n",
    "best_r2 = r2_score(Y_val, y_pred)\n",
    "\n",
    "#Calculate the improvement over the initial model for MSE and R-squared\n",
    "mse_improvement = ((initial_mse_RF - best_mse) / initial_mse_RF) * 100\n",
    "r2_improvement = ((best_r2 - initial_r2_RF) / (1 - initial_r2_RF)) * 100\n",
    "\n",
    "\n",
    "print(\"Best Hyperparameters:\", best_params)\n",
    "print(\"Mean Squared Error (MSE) of the Random Forest model is {}\".format(best_mse))\n",
    "print(\"R-squared score of the Random Forest model is {}\".format(best_r2))\n",
    "print(\"Improvement over initial MSE: {}%\".format(mse_improvement))\n",
    "print(\"Improvement over initial R-squared: {}%\".format(r2_improvement))\n"
   ]
  },
  {
   "cell_type": "markdown",
   "metadata": {},
   "source": [
    "From hyperparameter tuning, we found out the best hyperparameters for the Random Forest model: 'max_depth': None, 'min_samples_leaf': 4, 'min_samples_split': 10, 'n_estimators': 100. We also see that by using these hyperparameters, we see an increase of 2.4% in the regression metrics compared to the initial model."
   ]
  },
  {
   "cell_type": "markdown",
   "metadata": {},
   "source": [
    "Final RF model"
   ]
  },
  {
   "cell_type": "code",
   "execution_count": 53,
   "metadata": {},
   "outputs": [
    {
     "name": "stdout",
     "output_type": "stream",
     "text": [
      "Mean Squared Error (MSE) of the final Random Forest model is 820186371983490.6\n",
      "R-squared score of the final Random Forest model is 0.7070168836467209\n"
     ]
    }
   ],
   "source": [
    "#Assigning the final Random Forest model with the best hyperparameters\n",
    "final_rf_model = RandomForestRegressor(**best_params)\n",
    "\n",
    "#Fitting the model on the training data\n",
    "final_rf_model.fit(X_train, Y_train.values.ravel())\n",
    "\n",
    "#Making predictions on the validation data\n",
    "y_pred = final_rf_model.predict(X_val)\n",
    "\n",
    "#Calculating the mean squared error\n",
    "mse = mean_squared_error(Y_val, y_pred)\n",
    "\n",
    "#Calculating the R-squared score\n",
    "r2 = r2_score(Y_val, y_pred)\n",
    "\n",
    "#Printing the mean squared error and R-squared score\n",
    "print(\"Mean Squared Error (MSE) of the final Random Forest model is {}\".format(mse))\n",
    "print(\"R-squared score of the final Random Forest model is {}\".format(r2))\n"
   ]
  },
  {
   "cell_type": "markdown",
   "metadata": {},
   "source": [
    "The final model describes 71% of the variance in the target variable worldwide box office."
   ]
  },
  {
   "cell_type": "markdown",
   "metadata": {},
   "source": [
    "Actual vs predicted values for the RF model"
   ]
  },
  {
   "cell_type": "code",
   "execution_count": 54,
   "metadata": {},
   "outputs": [
    {
     "data": {
      "image/png": "[encoded data removed]",
      "text/plain": [
       "<Figure size 640x480 with 1 Axes>"
      ]
     },
     "metadata": {},
     "output_type": "display_data"
    }
   ],
   "source": [
    "#Making predictions on the test data using the trained Random Forest model\n",
    "y_pred = final_rf_model.predict(X_test)\n",
    "\n",
    "#Plotting the actual vs predicted values\n",
    "plt.scatter(Y_test, y_pred)\n",
    "plt.plot([Y_test.min(), Y_test.max()], [Y_test.min(), Y_test.max()], 'r--')  # Add diagonal line\n",
    "plt.xlabel('Actual Values')\n",
    "plt.ylabel('Predicted Values')\n",
    "plt.title('Actual vs Predicted Values for Random Forest Model')\n",
    "plt.show()\n"
   ]
  },
  {
   "cell_type": "markdown",
   "metadata": {},
   "source": [
    "By examining the scatter plot, I can conclude that the model is able to predict the target variable, because the points on the plot are mostly aligned along the diagonal line, indicating that the model's predictions are close to the actual values. This alignment suggests that the model is performing quite well and accurately predicting the target variable."
   ]
  },
  {
   "cell_type": "markdown",
   "metadata": {},
   "source": [
    "## Conclusion"
   ]
  },
  {
   "cell_type": "markdown",
   "metadata": {},
   "source": [
    "By examining the regression metrics and the actual vs predicted values for the 3 models, we can conclude that the Random Forest model performs the best out of all with an MSE score of 820186371983490.6, and the R_square score of 0.7070168836467209. Based on the these values, we can draw the following conclusions for the RF model:\n",
    "\n",
    "MSE: The MSE is quite large, which indicates that the model's predictions often deviate from the actual values by a large amount. This suggests that the model's performance is not optimal and there might be room for improvement.\n",
    "\n",
    "R-squared: The R-squared value is approximately 0.707, which means that about 71% of the variance in the target variable can be explained by the independent variables in the model. This is a relatively high value and generally indicates a good fit of the model.\n",
    "\n",
    "In conclusion, while the model is able to explain a significant portion of the variance in the target variable (as indicated by the R-squared value), the large MSE suggests that the model's predictions are not very accurate. This could be due to various reasons such as overfitting, underfitting, or the model not being complex enough to capture the underlying patterns in the data.\n"
   ]
  },
  {
   "cell_type": "markdown",
   "metadata": {},
   "source": [
    "## Explainability"
   ]
  },
  {
   "cell_type": "markdown",
   "metadata": {},
   "source": [
    "In this section we investigate the Random Forest model to see which features contribute the most to predictions made by this model. We do that by using a sample of the test data from the RF model."
   ]
  },
  {
   "cell_type": "code",
   "execution_count": 55,
   "metadata": {},
   "outputs": [],
   "source": [
    "#Take test data and take sample\n",
    "X_test_RF = pd.DataFrame(X_test_RF)\n",
    "sample = X_test_RF.sample(1000)\n",
    "#Back to array\n",
    "sample = sample.to_numpy()"
   ]
  },
  {
   "cell_type": "markdown",
   "metadata": {},
   "source": [
    "We use the Shap package for explainability. For shap to work an explainer and shap values variable needs to be assigned. The reason we need both an explainer and SHAP values is that the process of computing Shapley values is complex and depends on both the model and the data. The explainer abstracts away this complexity and provides a simple interface to compute the SHAP values. The SHAP values themselves are what we use to understand the model's predictions."
   ]
  },
  {
   "cell_type": "code",
   "execution_count": 56,
   "metadata": {},
   "outputs": [],
   "source": [
    "#Shap explainer for RF model with sample data\n",
    "explainer = shap.TreeExplainer(rf_model)\n",
    "shap_values = explainer.shap_values(sample)"
   ]
  },
  {
   "cell_type": "markdown",
   "metadata": {},
   "source": [
    "Global explanation"
   ]
  },
  {
   "cell_type": "code",
   "execution_count": 57,
   "metadata": {},
   "outputs": [
    {
     "data": {
      "image/png": "[encoded data removed]",
      "text/plain": [
       "<Figure size 800x390 with 2 Axes>"
      ]
     },
     "metadata": {},
     "output_type": "display_data"
    }
   ],
   "source": [
    "# Create a SHAP summary plot\n",
    "shap.summary_plot(shap_values, sample, feature_names=X.columns)\n"
   ]
  },
  {
   "cell_type": "markdown",
   "metadata": {},
   "source": [
    "From this graph we can see that theatre count and avg run per theatre have the biggest impact on worldwide box office of movies, whereas seasons and genre have the least impact"
   ]
  },
  {
   "cell_type": "markdown",
   "metadata": {},
   "source": [
    "### Answering the research questions"
   ]
  },
  {
   "cell_type": "markdown",
   "metadata": {},
   "source": [
    "As a reminder these were my  established research questions:\n",
    "\n",
    "**\"How can we predict worldwide box office of movies based on their various attributes?“**\n",
    "\n",
    "•\tWhich model (NN, KNN, RF) works best for predicting worldwide box office?\n",
    "\n",
    "•\tHow does genre predict worldwide box office performance of movies?\n",
    "\n",
    "•\tHow does runtime predict worldwide box office performance of movies?\n",
    "\n",
    "•\tHow does theatre count predict worldwide box office of movies?\n",
    "\n",
    "•\tHow does avg run per theatre predict worldwide box office of movies?\n",
    "\n",
    "•\tHow does creative type predict worldwide box office of movies?\n",
    "\n",
    "•\tHow does a season of release predict worldwide box office of movies?"
   ]
  },
  {
   "cell_type": "markdown",
   "metadata": {},
   "source": [
    "After conducting the supervised learning, we can see that the Random Forest model works the best. As for the predictors, we find that theatre count and avg run per theatre have the biggest impact in predicting worldwide box office of movies, followed by runtime and creative type (in that order) whereas seasons and genre have the least impact.\n",
    "\n",
    "Threfore, if studios want to predict worldwide box office of their movies, the best predictors to use are the theater count and the avg run per theater. "
   ]
  }
 ],
 "metadata": {
  "kernelspec": {
   "display_name": "base",
   "language": "python",
   "name": "python3"
  },
  "language_info": {
   "codemirror_mode": {
    "name": "ipython",
    "version": 3
   },
   "file_extension": ".py",
   "mimetype": "text/x-python",
   "name": "python",
   "nbconvert_exporter": "python",
   "pygments_lexer": "ipython3",
   "version": "3.11.4"
  }
 },
 "nbformat": 4,
 "nbformat_minor": 2
}
